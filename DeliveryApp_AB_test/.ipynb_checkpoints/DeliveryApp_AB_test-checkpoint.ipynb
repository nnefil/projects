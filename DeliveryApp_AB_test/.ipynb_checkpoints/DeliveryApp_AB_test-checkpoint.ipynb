{
 "cells": [
  {
   "cell_type": "markdown",
   "id": "e25115e6-6f5f-4735-a61e-a4bd3085aca0",
   "metadata": {},
   "source": [
    "**Цель:** Оценить эффективность внедренной умной системы рекомендации товаров в приложении по доставке продуктов.\n",
    "\n",
    "**Объект исследования:** Результаты АБ-теста, где группа 0 пользовались приложением без системы рекомендаций, а группа 1 – с новой системой рекомендаций.\n",
    "\n",
    "#### Задачи:\n",
    "1. Проанализировать предоставленные данные: провести предварительный осмотр, обработать пропуски и дубликаты.\n",
    "2. Определить ключевые метрики для оценки качества системы рекомендаций.\n",
    "3. Проанализировать распределение ключевых метрик в обеих группах.\n",
    "4. Провести статистический анализ данных: проверить гипотезы о различиях между группами по выбранным метрикам.\n",
    "5. Сделать выводы на основе полученных результатов и дать рекомендации.\n",
    "\n",
    "#### Ключевые метрики:\n",
    "1. Средний чек заказа.\n",
    "2. Количество товаров в одном заказе.\n",
    "3. Конверсия в заказ после просмотра рекомендаций.\n",
    "4. Средняя стоимость товаров в заказе.\n",
    "\n",
    "#### Исходные данные:\n",
    "- `ab_users_data`: история заказов пользователей, включая информацию о созданных и отмененных заказах, а также информация о принадлежности пользователя к контрольной или экспериментальной группе.\n",
    "- `ab_orders`: подробная информация о составе заказа – для каждого заказа представлен список ID продуктов, включенных в заказ.\n",
    "- `ab_products`: подробная информация о продуктах – их название и стоимость.\n",
    "\n",
    "#### Шаги анализа:\n",
    "1. Загрузка и первичный анализ данных.\n",
    "2. Предобработка данных: удаление дубликатов, обработка пропусков.\n",
    "3. Рассчет и анализ ключевых метрик для каждой группы.\n",
    "4. Визуализация распределения метрик в обеих группах.\n",
    "5. Проведение статистических тестов для проверки гипотез о различии между группами.\n",
    "6. Формулировка выводов и рекомендаций.\n",
    "\n",
    "#### Ожидаемые результаты:\n",
    "- Определение того, принесла ли новая система рекомендаций положительные изменения в поведении пользователей и показателях бизнеса.\n",
    "- Рекомендация по поводу масштабного внедрения системы рекомендаций для всех пользователей или необходимость ее доработки.\n"
   ]
  },
  {
   "cell_type": "code",
   "execution_count": 21,
   "id": "fa588fa7-5669-452c-93b9-c9b4a2613c76",
   "metadata": {},
   "outputs": [],
   "source": [
    "import pandas as pd\n",
    "import matplotlib.pyplot as plt\n",
    "import seaborn as sns\n",
    "from scipy.stats import shapiro\n",
    "import numpy as np\n",
    "from scipy.stats import mannwhitneyu"
   ]
  },
  {
   "cell_type": "code",
   "execution_count": 22,
   "id": "e4d37f23-86f1-43c9-b692-23c00073703e",
   "metadata": {},
   "outputs": [],
   "source": [
    "orders = pd.read_csv('ab_orders.csv')"
   ]
  },
  {
   "cell_type": "code",
   "execution_count": 23,
   "id": "a86b08b9-345a-475a-a427-ce1f2dc68a7d",
   "metadata": {},
   "outputs": [],
   "source": [
    "products = pd.read_csv('ab_products.csv')"
   ]
  },
  {
   "cell_type": "code",
   "execution_count": 24,
   "id": "64e2981e-fb84-44ae-a7c3-57e297fbba15",
   "metadata": {},
   "outputs": [],
   "source": [
    "users = pd.read_csv('ab_users_data.csv')"
   ]
  },
  {
   "cell_type": "code",
   "execution_count": 25,
   "id": "fb57e36c-c60f-4ccd-ab6d-9a54dfdd7508",
   "metadata": {},
   "outputs": [
    {
     "data": {
      "text/plain": [
       "order_id         0\n",
       "creation_time    0\n",
       "product_ids      0\n",
       "dtype: int64"
      ]
     },
     "execution_count": 25,
     "metadata": {},
     "output_type": "execute_result"
    }
   ],
   "source": [
    "orders.isna().sum()"
   ]
  },
  {
   "cell_type": "code",
   "execution_count": 26,
   "id": "c6d45cfd-065f-4565-b957-5a3810cf83e6",
   "metadata": {},
   "outputs": [
    {
     "data": {
      "text/plain": [
       "product_id    0\n",
       "name          0\n",
       "price         0\n",
       "dtype: int64"
      ]
     },
     "execution_count": 26,
     "metadata": {},
     "output_type": "execute_result"
    }
   ],
   "source": [
    "products.isna().sum()"
   ]
  },
  {
   "cell_type": "code",
   "execution_count": 27,
   "id": "86d3ca74-38ad-41ab-92ae-f5a83d14aa2c",
   "metadata": {},
   "outputs": [
    {
     "data": {
      "text/plain": [
       "user_id     0\n",
       "order_id    0\n",
       "action      0\n",
       "time        0\n",
       "date        0\n",
       "group       0\n",
       "dtype: int64"
      ]
     },
     "execution_count": 27,
     "metadata": {},
     "output_type": "execute_result"
    }
   ],
   "source": [
    "users.isna().sum()"
   ]
  },
  {
   "cell_type": "code",
   "execution_count": 28,
   "id": "e96cf738-f0f7-4b8b-a220-4cb6e378feb8",
   "metadata": {},
   "outputs": [
    {
     "data": {
      "text/html": [
       "<div>\n",
       "<style scoped>\n",
       "    .dataframe tbody tr th:only-of-type {\n",
       "        vertical-align: middle;\n",
       "    }\n",
       "\n",
       "    .dataframe tbody tr th {\n",
       "        vertical-align: top;\n",
       "    }\n",
       "\n",
       "    .dataframe thead th {\n",
       "        text-align: right;\n",
       "    }\n",
       "</style>\n",
       "<table border=\"1\" class=\"dataframe\">\n",
       "  <thead>\n",
       "    <tr style=\"text-align: right;\">\n",
       "      <th></th>\n",
       "      <th>user_id</th>\n",
       "      <th>order_id</th>\n",
       "      <th>action</th>\n",
       "      <th>time</th>\n",
       "      <th>date</th>\n",
       "      <th>group</th>\n",
       "    </tr>\n",
       "  </thead>\n",
       "  <tbody>\n",
       "    <tr>\n",
       "      <th>0</th>\n",
       "      <td>964</td>\n",
       "      <td>1255</td>\n",
       "      <td>create_order</td>\n",
       "      <td>2022-08-26 00:00:19.000000</td>\n",
       "      <td>2022-08-26</td>\n",
       "      <td>0</td>\n",
       "    </tr>\n",
       "    <tr>\n",
       "      <th>1</th>\n",
       "      <td>965</td>\n",
       "      <td>1256</td>\n",
       "      <td>create_order</td>\n",
       "      <td>2022-08-26 00:02:21.000000</td>\n",
       "      <td>2022-08-26</td>\n",
       "      <td>1</td>\n",
       "    </tr>\n",
       "    <tr>\n",
       "      <th>2</th>\n",
       "      <td>964</td>\n",
       "      <td>1257</td>\n",
       "      <td>create_order</td>\n",
       "      <td>2022-08-26 00:02:27.000000</td>\n",
       "      <td>2022-08-26</td>\n",
       "      <td>0</td>\n",
       "    </tr>\n",
       "    <tr>\n",
       "      <th>3</th>\n",
       "      <td>966</td>\n",
       "      <td>1258</td>\n",
       "      <td>create_order</td>\n",
       "      <td>2022-08-26 00:02:56.000000</td>\n",
       "      <td>2022-08-26</td>\n",
       "      <td>0</td>\n",
       "    </tr>\n",
       "    <tr>\n",
       "      <th>4</th>\n",
       "      <td>967</td>\n",
       "      <td>1259</td>\n",
       "      <td>create_order</td>\n",
       "      <td>2022-08-26 00:03:37.000000</td>\n",
       "      <td>2022-08-26</td>\n",
       "      <td>1</td>\n",
       "    </tr>\n",
       "  </tbody>\n",
       "</table>\n",
       "</div>"
      ],
      "text/plain": [
       "   user_id  order_id        action                        time        date  \\\n",
       "0      964      1255  create_order  2022-08-26 00:00:19.000000  2022-08-26   \n",
       "1      965      1256  create_order  2022-08-26 00:02:21.000000  2022-08-26   \n",
       "2      964      1257  create_order  2022-08-26 00:02:27.000000  2022-08-26   \n",
       "3      966      1258  create_order  2022-08-26 00:02:56.000000  2022-08-26   \n",
       "4      967      1259  create_order  2022-08-26 00:03:37.000000  2022-08-26   \n",
       "\n",
       "   group  \n",
       "0      0  \n",
       "1      1  \n",
       "2      0  \n",
       "3      0  \n",
       "4      1  "
      ]
     },
     "execution_count": 28,
     "metadata": {},
     "output_type": "execute_result"
    }
   ],
   "source": [
    "users.head()"
   ]
  },
  {
   "cell_type": "code",
   "execution_count": 29,
   "id": "2cab68bc-2cbc-4c20-b5ee-47aa7a737245",
   "metadata": {},
   "outputs": [
    {
     "data": {
      "text/html": [
       "<div>\n",
       "<style scoped>\n",
       "    .dataframe tbody tr th:only-of-type {\n",
       "        vertical-align: middle;\n",
       "    }\n",
       "\n",
       "    .dataframe tbody tr th {\n",
       "        vertical-align: top;\n",
       "    }\n",
       "\n",
       "    .dataframe thead th {\n",
       "        text-align: right;\n",
       "    }\n",
       "</style>\n",
       "<table border=\"1\" class=\"dataframe\">\n",
       "  <thead>\n",
       "    <tr style=\"text-align: right;\">\n",
       "      <th></th>\n",
       "      <th>order_id</th>\n",
       "      <th>creation_time</th>\n",
       "      <th>product_ids</th>\n",
       "    </tr>\n",
       "  </thead>\n",
       "  <tbody>\n",
       "    <tr>\n",
       "      <th>0</th>\n",
       "      <td>1255</td>\n",
       "      <td>2022-08-26 00:00:19.000000</td>\n",
       "      <td>{75, 22, 53, 84}</td>\n",
       "    </tr>\n",
       "    <tr>\n",
       "      <th>1</th>\n",
       "      <td>1256</td>\n",
       "      <td>2022-08-26 00:02:21.000000</td>\n",
       "      <td>{56, 76, 39}</td>\n",
       "    </tr>\n",
       "    <tr>\n",
       "      <th>2</th>\n",
       "      <td>1257</td>\n",
       "      <td>2022-08-26 00:02:27.000000</td>\n",
       "      <td>{76, 34, 41, 38}</td>\n",
       "    </tr>\n",
       "    <tr>\n",
       "      <th>3</th>\n",
       "      <td>1258</td>\n",
       "      <td>2022-08-26 00:02:56.000000</td>\n",
       "      <td>{74, 6}</td>\n",
       "    </tr>\n",
       "    <tr>\n",
       "      <th>4</th>\n",
       "      <td>1259</td>\n",
       "      <td>2022-08-26 00:03:37.000000</td>\n",
       "      <td>{20, 45, 67, 26}</td>\n",
       "    </tr>\n",
       "  </tbody>\n",
       "</table>\n",
       "</div>"
      ],
      "text/plain": [
       "   order_id               creation_time       product_ids\n",
       "0      1255  2022-08-26 00:00:19.000000  {75, 22, 53, 84}\n",
       "1      1256  2022-08-26 00:02:21.000000      {56, 76, 39}\n",
       "2      1257  2022-08-26 00:02:27.000000  {76, 34, 41, 38}\n",
       "3      1258  2022-08-26 00:02:56.000000           {74, 6}\n",
       "4      1259  2022-08-26 00:03:37.000000  {20, 45, 67, 26}"
      ]
     },
     "execution_count": 29,
     "metadata": {},
     "output_type": "execute_result"
    }
   ],
   "source": [
    "orders.head()"
   ]
  },
  {
   "cell_type": "code",
   "execution_count": 30,
   "id": "af0b334c-648f-4693-b99b-98af808f4ae9",
   "metadata": {},
   "outputs": [
    {
     "data": {
      "text/html": [
       "<div>\n",
       "<style scoped>\n",
       "    .dataframe tbody tr th:only-of-type {\n",
       "        vertical-align: middle;\n",
       "    }\n",
       "\n",
       "    .dataframe tbody tr th {\n",
       "        vertical-align: top;\n",
       "    }\n",
       "\n",
       "    .dataframe thead th {\n",
       "        text-align: right;\n",
       "    }\n",
       "</style>\n",
       "<table border=\"1\" class=\"dataframe\">\n",
       "  <thead>\n",
       "    <tr style=\"text-align: right;\">\n",
       "      <th></th>\n",
       "      <th>product_id</th>\n",
       "      <th>name</th>\n",
       "      <th>price</th>\n",
       "    </tr>\n",
       "  </thead>\n",
       "  <tbody>\n",
       "    <tr>\n",
       "      <th>0</th>\n",
       "      <td>1</td>\n",
       "      <td>сахар</td>\n",
       "      <td>150.0</td>\n",
       "    </tr>\n",
       "    <tr>\n",
       "      <th>1</th>\n",
       "      <td>2</td>\n",
       "      <td>чай зеленый в пакетиках</td>\n",
       "      <td>50.0</td>\n",
       "    </tr>\n",
       "    <tr>\n",
       "      <th>2</th>\n",
       "      <td>3</td>\n",
       "      <td>вода негазированная</td>\n",
       "      <td>80.4</td>\n",
       "    </tr>\n",
       "    <tr>\n",
       "      <th>3</th>\n",
       "      <td>4</td>\n",
       "      <td>леденцы</td>\n",
       "      <td>45.5</td>\n",
       "    </tr>\n",
       "    <tr>\n",
       "      <th>4</th>\n",
       "      <td>5</td>\n",
       "      <td>кофе 3 в 1</td>\n",
       "      <td>15.0</td>\n",
       "    </tr>\n",
       "  </tbody>\n",
       "</table>\n",
       "</div>"
      ],
      "text/plain": [
       "   product_id                     name  price\n",
       "0           1                    сахар  150.0\n",
       "1           2  чай зеленый в пакетиках   50.0\n",
       "2           3      вода негазированная   80.4\n",
       "3           4                  леденцы   45.5\n",
       "4           5               кофе 3 в 1   15.0"
      ]
     },
     "execution_count": 30,
     "metadata": {},
     "output_type": "execute_result"
    }
   ],
   "source": [
    "products.head()"
   ]
  },
  {
   "cell_type": "markdown",
   "id": "fa0cff2c-0864-49f3-9580-e711df86cf96",
   "metadata": {},
   "source": [
    "#### Сравним рамзеры выборок в контрольной и эксперементальной группах"
   ]
  },
  {
   "cell_type": "code",
   "execution_count": 31,
   "id": "a6679abf-dd05-44bb-9ed6-6de21ef361cf",
   "metadata": {},
   "outputs": [
    {
     "data": {
      "text/plain": [
       "group\n",
       "0    515\n",
       "1    502\n",
       "Name: user_id, dtype: int64"
      ]
     },
     "execution_count": 31,
     "metadata": {},
     "output_type": "execute_result"
    }
   ],
   "source": [
    "users.groupby('group').user_id.nunique()"
   ]
  },
  {
   "cell_type": "markdown",
   "id": "3c128c69-ca62-4c0b-a23f-85142e945e0f",
   "metadata": {},
   "source": [
    "#### Посмотрим повторяются ли заказы и почему"
   ]
  },
  {
   "cell_type": "code",
   "execution_count": 32,
   "id": "efa58323-538b-4ef8-bd3b-5d17e068f8a8",
   "metadata": {},
   "outputs": [
    {
     "data": {
      "text/plain": [
       "10197    2\n",
       "2817     2\n",
       "13019    2\n",
       "1620     2\n",
       "48882    2\n",
       "        ..\n",
       "3510     1\n",
       "3512     1\n",
       "3515     1\n",
       "3517     1\n",
       "59533    1\n",
       "Name: order_id, Length: 4123, dtype: int64"
      ]
     },
     "execution_count": 32,
     "metadata": {},
     "output_type": "execute_result"
    }
   ],
   "source": [
    "users.order_id.value_counts(ascending = False)"
   ]
  },
  {
   "cell_type": "code",
   "execution_count": 33,
   "id": "f13c7f90-944b-47d9-b439-d2aa5d1c2ed5",
   "metadata": {},
   "outputs": [
    {
     "data": {
      "text/html": [
       "<div>\n",
       "<style scoped>\n",
       "    .dataframe tbody tr th:only-of-type {\n",
       "        vertical-align: middle;\n",
       "    }\n",
       "\n",
       "    .dataframe tbody tr th {\n",
       "        vertical-align: top;\n",
       "    }\n",
       "\n",
       "    .dataframe thead th {\n",
       "        text-align: right;\n",
       "    }\n",
       "</style>\n",
       "<table border=\"1\" class=\"dataframe\">\n",
       "  <thead>\n",
       "    <tr style=\"text-align: right;\">\n",
       "      <th></th>\n",
       "      <th>user_id</th>\n",
       "      <th>order_id</th>\n",
       "      <th>action</th>\n",
       "      <th>time</th>\n",
       "      <th>date</th>\n",
       "      <th>group</th>\n",
       "    </tr>\n",
       "  </thead>\n",
       "  <tbody>\n",
       "    <tr>\n",
       "      <th>2227</th>\n",
       "      <td>1037</td>\n",
       "      <td>10197</td>\n",
       "      <td>create_order</td>\n",
       "      <td>2022-08-29 16:22:05.000000</td>\n",
       "      <td>2022-08-29</td>\n",
       "      <td>0</td>\n",
       "    </tr>\n",
       "    <tr>\n",
       "      <th>2231</th>\n",
       "      <td>1037</td>\n",
       "      <td>10197</td>\n",
       "      <td>cancel_order</td>\n",
       "      <td>2022-08-29 16:29:01.710527</td>\n",
       "      <td>2022-08-29</td>\n",
       "      <td>0</td>\n",
       "    </tr>\n",
       "  </tbody>\n",
       "</table>\n",
       "</div>"
      ],
      "text/plain": [
       "      user_id  order_id        action                        time        date  \\\n",
       "2227     1037     10197  create_order  2022-08-29 16:22:05.000000  2022-08-29   \n",
       "2231     1037     10197  cancel_order  2022-08-29 16:29:01.710527  2022-08-29   \n",
       "\n",
       "      group  \n",
       "2227      0  \n",
       "2231      0  "
      ]
     },
     "execution_count": 33,
     "metadata": {},
     "output_type": "execute_result"
    }
   ],
   "source": [
    "users.query('order_id == 10197')"
   ]
  },
  {
   "cell_type": "code",
   "execution_count": 34,
   "id": "d0c3df06-3d25-47c9-a59f-1cb2cf5ca433",
   "metadata": {},
   "outputs": [
    {
     "data": {
      "text/plain": [
       "create_order    4123\n",
       "cancel_order     214\n",
       "Name: action, dtype: int64"
      ]
     },
     "execution_count": 34,
     "metadata": {},
     "output_type": "execute_result"
    }
   ],
   "source": [
    "users.action.value_counts()"
   ]
  },
  {
   "cell_type": "code",
   "execution_count": 35,
   "id": "e518314f-56bd-4aa1-aad5-9e8193458063",
   "metadata": {},
   "outputs": [],
   "source": [
    "canceled_orders = users.query('action == \"cancel_order\"')['order_id']"
   ]
  },
  {
   "cell_type": "code",
   "execution_count": 36,
   "id": "6ee7761d-5d5f-4d92-9903-43caaf21c3cd",
   "metadata": {},
   "outputs": [
    {
     "data": {
      "text/plain": [
       "8        1258\n",
       "39       1296\n",
       "47       1298\n",
       "54       1308\n",
       "60       1315\n",
       "        ...  \n",
       "4221    54938\n",
       "4255    56612\n",
       "4259    56772\n",
       "4307    58492\n",
       "4321    59055\n",
       "Name: order_id, Length: 214, dtype: int64"
      ]
     },
     "execution_count": 36,
     "metadata": {},
     "output_type": "execute_result"
    }
   ],
   "source": [
    "canceled_orders"
   ]
  },
  {
   "cell_type": "markdown",
   "id": "0c9cc09e-4fce-4545-8be7-aa99009ed300",
   "metadata": {},
   "source": [
    "#### Возьмем только НЕ ОТМЕНЕННЫЕ заказы"
   ]
  },
  {
   "cell_type": "code",
   "execution_count": 37,
   "id": "ae65c8f6-691a-48aa-a20e-afe1bdad1a4a",
   "metadata": {},
   "outputs": [],
   "source": [
    "not_canceled_orders = users[~users['order_id'].isin(canceled_orders)]"
   ]
  },
  {
   "cell_type": "markdown",
   "id": "932e474f-38a2-4880-809d-6bbacd089865",
   "metadata": {},
   "source": [
    "#### Получим таблицу с товарами из каждого заказа, для того что бы была возможность посчитаь сумму заказов и количество товаров в заказе"
   ]
  },
  {
   "cell_type": "code",
   "execution_count": 38,
   "id": "52d711fe-1696-4e80-a64f-b7eeb9ee4ff0",
   "metadata": {},
   "outputs": [
    {
     "data": {
      "text/plain": [
       "group\n",
       "0     9.966797\n",
       "1    15.928144\n",
       "Name: order_id, dtype: float64"
      ]
     },
     "execution_count": 38,
     "metadata": {},
     "output_type": "execute_result"
    }
   ],
   "source": [
    "orders['product_ids'] = orders['product_ids'].apply(lambda x: x.strip('{}').split(','))\n",
    "\n",
    "orders = orders.explode('product_ids', ignore_index=True).rename(columns = {'product_ids':'product_id'})\n",
    "\n",
    "orders.product_id = orders.product_id.astype(int)\n",
    "\n",
    "orders_products = orders.merge(products, on = 'product_id', how = 'left')\n",
    "\n",
    "users_orders_products = not_canceled_orders.merge(orders_products, on = 'order_id', how = 'left')\n",
    "\n",
    "users_orders_products.groupby(['group','user_id'])['order_id'].count().reset_index().groupby('group')['order_id'].mean()"
   ]
  },
  {
   "cell_type": "markdown",
   "id": "2f6847f7-a5de-4fed-b7ab-5fde9582b899",
   "metadata": {},
   "source": [
    "#### Теперь у нас есть одна таблица со всей нужной информацией\n",
    "#### сравним средний чек и количество товаров в заказе в каждой группе "
   ]
  },
  {
   "cell_type": "code",
   "execution_count": 39,
   "id": "501e7433-c281-4313-8c9f-b6624c558cc9",
   "metadata": {},
   "outputs": [
    {
     "data": {
      "text/html": [
       "<div>\n",
       "<style scoped>\n",
       "    .dataframe tbody tr th:only-of-type {\n",
       "        vertical-align: middle;\n",
       "    }\n",
       "\n",
       "    .dataframe tbody tr th {\n",
       "        vertical-align: top;\n",
       "    }\n",
       "\n",
       "    .dataframe thead th {\n",
       "        text-align: right;\n",
       "    }\n",
       "</style>\n",
       "<table border=\"1\" class=\"dataframe\">\n",
       "  <thead>\n",
       "    <tr style=\"text-align: right;\">\n",
       "      <th></th>\n",
       "      <th>user_id</th>\n",
       "      <th>order_id</th>\n",
       "      <th>action</th>\n",
       "      <th>time</th>\n",
       "      <th>date</th>\n",
       "      <th>group</th>\n",
       "      <th>creation_time</th>\n",
       "      <th>product_id</th>\n",
       "      <th>name</th>\n",
       "      <th>price</th>\n",
       "    </tr>\n",
       "  </thead>\n",
       "  <tbody>\n",
       "    <tr>\n",
       "      <th>0</th>\n",
       "      <td>964</td>\n",
       "      <td>1255</td>\n",
       "      <td>create_order</td>\n",
       "      <td>2022-08-26 00:00:19.000000</td>\n",
       "      <td>2022-08-26</td>\n",
       "      <td>0</td>\n",
       "      <td>2022-08-26 00:00:19.000000</td>\n",
       "      <td>75</td>\n",
       "      <td>сок ананасовый</td>\n",
       "      <td>120.0</td>\n",
       "    </tr>\n",
       "    <tr>\n",
       "      <th>1</th>\n",
       "      <td>964</td>\n",
       "      <td>1255</td>\n",
       "      <td>create_order</td>\n",
       "      <td>2022-08-26 00:00:19.000000</td>\n",
       "      <td>2022-08-26</td>\n",
       "      <td>0</td>\n",
       "      <td>2022-08-26 00:00:19.000000</td>\n",
       "      <td>22</td>\n",
       "      <td>сок мультифрукт</td>\n",
       "      <td>120.0</td>\n",
       "    </tr>\n",
       "    <tr>\n",
       "      <th>2</th>\n",
       "      <td>964</td>\n",
       "      <td>1255</td>\n",
       "      <td>create_order</td>\n",
       "      <td>2022-08-26 00:00:19.000000</td>\n",
       "      <td>2022-08-26</td>\n",
       "      <td>0</td>\n",
       "      <td>2022-08-26 00:00:19.000000</td>\n",
       "      <td>53</td>\n",
       "      <td>мука</td>\n",
       "      <td>78.3</td>\n",
       "    </tr>\n",
       "    <tr>\n",
       "      <th>3</th>\n",
       "      <td>964</td>\n",
       "      <td>1255</td>\n",
       "      <td>create_order</td>\n",
       "      <td>2022-08-26 00:00:19.000000</td>\n",
       "      <td>2022-08-26</td>\n",
       "      <td>0</td>\n",
       "      <td>2022-08-26 00:00:19.000000</td>\n",
       "      <td>84</td>\n",
       "      <td>мандарины</td>\n",
       "      <td>90.4</td>\n",
       "    </tr>\n",
       "    <tr>\n",
       "      <th>4</th>\n",
       "      <td>965</td>\n",
       "      <td>1256</td>\n",
       "      <td>create_order</td>\n",
       "      <td>2022-08-26 00:02:21.000000</td>\n",
       "      <td>2022-08-26</td>\n",
       "      <td>1</td>\n",
       "      <td>2022-08-26 00:02:21.000000</td>\n",
       "      <td>56</td>\n",
       "      <td>сосиски</td>\n",
       "      <td>150.0</td>\n",
       "    </tr>\n",
       "  </tbody>\n",
       "</table>\n",
       "</div>"
      ],
      "text/plain": [
       "   user_id  order_id        action                        time        date  \\\n",
       "0      964      1255  create_order  2022-08-26 00:00:19.000000  2022-08-26   \n",
       "1      964      1255  create_order  2022-08-26 00:00:19.000000  2022-08-26   \n",
       "2      964      1255  create_order  2022-08-26 00:00:19.000000  2022-08-26   \n",
       "3      964      1255  create_order  2022-08-26 00:00:19.000000  2022-08-26   \n",
       "4      965      1256  create_order  2022-08-26 00:02:21.000000  2022-08-26   \n",
       "\n",
       "   group               creation_time  product_id             name  price  \n",
       "0      0  2022-08-26 00:00:19.000000          75   сок ананасовый  120.0  \n",
       "1      0  2022-08-26 00:00:19.000000          22  сок мультифрукт  120.0  \n",
       "2      0  2022-08-26 00:00:19.000000          53             мука   78.3  \n",
       "3      0  2022-08-26 00:00:19.000000          84        мандарины   90.4  \n",
       "4      1  2022-08-26 00:02:21.000000          56          сосиски  150.0  "
      ]
     },
     "execution_count": 39,
     "metadata": {},
     "output_type": "execute_result"
    }
   ],
   "source": [
    "users_orders_products.head()"
   ]
  },
  {
   "cell_type": "code",
   "execution_count": 40,
   "id": "aab0a6fb-4bdc-4bf8-a352-7529e3dcd0c2",
   "metadata": {},
   "outputs": [
    {
     "data": {
      "text/html": [
       "<div>\n",
       "<style scoped>\n",
       "    .dataframe tbody tr th:only-of-type {\n",
       "        vertical-align: middle;\n",
       "    }\n",
       "\n",
       "    .dataframe tbody tr th {\n",
       "        vertical-align: top;\n",
       "    }\n",
       "\n",
       "    .dataframe thead th {\n",
       "        text-align: right;\n",
       "    }\n",
       "</style>\n",
       "<table border=\"1\" class=\"dataframe\">\n",
       "  <thead>\n",
       "    <tr style=\"text-align: right;\">\n",
       "      <th></th>\n",
       "      <th>group</th>\n",
       "      <th>order_id</th>\n",
       "      <th>price</th>\n",
       "      <th>product_id</th>\n",
       "    </tr>\n",
       "  </thead>\n",
       "  <tbody>\n",
       "    <tr>\n",
       "      <th>0</th>\n",
       "      <td>0</td>\n",
       "      <td>1255</td>\n",
       "      <td>408.7</td>\n",
       "      <td>4</td>\n",
       "    </tr>\n",
       "    <tr>\n",
       "      <th>1</th>\n",
       "      <td>0</td>\n",
       "      <td>1257</td>\n",
       "      <td>310.2</td>\n",
       "      <td>4</td>\n",
       "    </tr>\n",
       "    <tr>\n",
       "      <th>2</th>\n",
       "      <td>0</td>\n",
       "      <td>1261</td>\n",
       "      <td>430.7</td>\n",
       "      <td>4</td>\n",
       "    </tr>\n",
       "    <tr>\n",
       "      <th>3</th>\n",
       "      <td>0</td>\n",
       "      <td>1262</td>\n",
       "      <td>358.6</td>\n",
       "      <td>4</td>\n",
       "    </tr>\n",
       "    <tr>\n",
       "      <th>4</th>\n",
       "      <td>0</td>\n",
       "      <td>1265</td>\n",
       "      <td>546.4</td>\n",
       "      <td>5</td>\n",
       "    </tr>\n",
       "  </tbody>\n",
       "</table>\n",
       "</div>"
      ],
      "text/plain": [
       "   group  order_id  price  product_id\n",
       "0      0      1255  408.7           4\n",
       "1      0      1257  310.2           4\n",
       "2      0      1261  430.7           4\n",
       "3      0      1262  358.6           4\n",
       "4      0      1265  546.4           5"
      ]
     },
     "execution_count": 40,
     "metadata": {},
     "output_type": "execute_result"
    }
   ],
   "source": [
    "# Посчитаем среднее количество товаров в заказе и средний чек по заказу\n",
    "\n",
    "mean = users_orders_products.groupby(['group','order_id'],as_index = False).agg({'price':'sum','product_id':'count'})\n",
    "\n",
    "mean.head()"
   ]
  },
  {
   "cell_type": "code",
   "execution_count": 41,
   "id": "e303b8ea-524f-4c08-a528-364a8de7b36d",
   "metadata": {},
   "outputs": [
    {
     "data": {
      "text/html": [
       "<div>\n",
       "<style scoped>\n",
       "    .dataframe tbody tr th:only-of-type {\n",
       "        vertical-align: middle;\n",
       "    }\n",
       "\n",
       "    .dataframe tbody tr th {\n",
       "        vertical-align: top;\n",
       "    }\n",
       "\n",
       "    .dataframe thead th {\n",
       "        text-align: right;\n",
       "    }\n",
       "</style>\n",
       "<table border=\"1\" class=\"dataframe\">\n",
       "  <thead>\n",
       "    <tr style=\"text-align: right;\">\n",
       "      <th></th>\n",
       "      <th>product_id</th>\n",
       "      <th>price</th>\n",
       "    </tr>\n",
       "    <tr>\n",
       "      <th>group</th>\n",
       "      <th></th>\n",
       "      <th></th>\n",
       "    </tr>\n",
       "  </thead>\n",
       "  <tbody>\n",
       "    <tr>\n",
       "      <th>0</th>\n",
       "      <td>3.341847</td>\n",
       "      <td>382.092927</td>\n",
       "    </tr>\n",
       "    <tr>\n",
       "      <th>1</th>\n",
       "      <td>3.350126</td>\n",
       "      <td>368.861629</td>\n",
       "    </tr>\n",
       "  </tbody>\n",
       "</table>\n",
       "</div>"
      ],
      "text/plain": [
       "       product_id       price\n",
       "group                        \n",
       "0        3.341847  382.092927\n",
       "1        3.350126  368.861629"
      ]
     },
     "execution_count": 41,
     "metadata": {},
     "output_type": "execute_result"
    }
   ],
   "source": [
    "# Сравним эти показатели для групп 0 и 1\n",
    "\n",
    "mean.groupby('group').agg({'product_id':'mean','price':'mean'})"
   ]
  },
  {
   "cell_type": "markdown",
   "id": "ef340285-20dd-4121-b45d-e9f0cf525905",
   "metadata": {},
   "source": [
    "#### Построим графики для наглядного сравнения цены и количества товаров в граппах"
   ]
  },
  {
   "cell_type": "code",
   "execution_count": 133,
   "id": "1365de49-6337-4ff9-9fe9-31d6a620b253",
   "metadata": {},
   "outputs": [
    {
     "data": {
      "text/plain": [
       "<seaborn.axisgrid.FacetGrid at 0x7fe2b00a9330>"
      ]
     },
     "execution_count": 133,
     "metadata": {},
     "output_type": "execute_result"
    },
    {
     "data": {
      "image/png": "[encoded data removed]",
      "text/plain": [
       "<Figure size 1000x500 with 2 Axes>"
      ]
     },
     "metadata": {},
     "output_type": "display_data"
    }
   ],
   "source": [
    "sns.catplot(x='product_id', kind = 'count', data = mean, col = 'group')"
   ]
  },
  {
   "cell_type": "code",
   "execution_count": 139,
   "id": "3f2f5e0d-a992-4c07-8103-bee5508d8bb1",
   "metadata": {},
   "outputs": [
    {
     "data": {
      "text/plain": [
       "<Axes: xlabel='group', ylabel='product_id'>"
      ]
     },
     "execution_count": 139,
     "metadata": {},
     "output_type": "execute_result"
    },
    {
     "data": {
      "image/png": "[encoded data removed]",
      "text/plain": [
       "<Figure size 640x480 with 1 Axes>"
      ]
     },
     "metadata": {},
     "output_type": "display_data"
    }
   ],
   "source": [
    "sns.boxplot(x='group', y ='product_id', data = mean)"
   ]
  },
  {
   "cell_type": "code",
   "execution_count": 166,
   "id": "dc83d65c-da5f-4a45-859f-ac1a1436eb4f",
   "metadata": {},
   "outputs": [
    {
     "data": {
      "text/plain": [
       "<Axes: xlabel='price', ylabel='Count'>"
      ]
     },
     "execution_count": 166,
     "metadata": {},
     "output_type": "execute_result"
    },
    {
     "data": {
      "image/png": "[encoded data removed]",
      "text/plain": [
       "<Figure size 640x480 with 1 Axes>"
      ]
     },
     "metadata": {},
     "output_type": "display_data"
    }
   ],
   "source": [
    "plt.figure()\n",
    "\n",
    "sns.histplot(x='price', data = mean, hue = 'group')"
   ]
  },
  {
   "cell_type": "code",
   "execution_count": 167,
   "id": "33a830df-df46-4e57-80d2-b3a2a2cbe6b8",
   "metadata": {},
   "outputs": [
    {
     "data": {
      "text/plain": [
       "<Axes: xlabel='group', ylabel='price'>"
      ]
     },
     "execution_count": 167,
     "metadata": {},
     "output_type": "execute_result"
    },
    {
     "data": {
      "image/png": "[encoded data removed]",
      "text/plain": [
       "<Figure size 640x480 with 1 Axes>"
      ]
     },
     "metadata": {},
     "output_type": "display_data"
    }
   ],
   "source": [
    "sns.boxplot(x='group', y ='price', data = mean)"
   ]
  },
  {
   "cell_type": "markdown",
   "id": "e8e82f24-bb39-4ade-b975-d005e41df593",
   "metadata": {},
   "source": [
    "Перед тем как сравнить распределения проверим являются ли они нормальными"
   ]
  },
  {
   "cell_type": "code",
   "execution_count": 172,
   "id": "a34f4d7a-c969-48df-90c9-a4e18e6f2730",
   "metadata": {},
   "outputs": [
    {
     "data": {
      "text/plain": [
       "ShapiroResult(statistic=0.9396703839302063, pvalue=4.245708800819739e-30)"
      ]
     },
     "execution_count": 172,
     "metadata": {},
     "output_type": "execute_result"
    }
   ],
   "source": [
    "shapiro(mean.query('group == 1').product_id)"
   ]
  },
  {
   "cell_type": "code",
   "execution_count": 173,
   "id": "b43e6255-dad3-402a-8f37-4bf4fbdeefef",
   "metadata": {},
   "outputs": [
    {
     "data": {
      "text/plain": [
       "ShapiroResult(statistic=0.9005314707756042, pvalue=8.38740133277359e-37)"
      ]
     },
     "execution_count": 173,
     "metadata": {},
     "output_type": "execute_result"
    }
   ],
   "source": [
    "shapiro(mean.query('group == 1').price)"
   ]
  },
  {
   "cell_type": "markdown",
   "id": "aa8f934c-e47f-46ee-96bd-79c3291b2fd6",
   "metadata": {},
   "source": [
    "Так как п-вэлью значительно меньше уровня значимости, отклоняем гипотезу о нормлаьности распределений."
   ]
  },
  {
   "cell_type": "markdown",
   "id": "0557ebd1-09d1-4b4c-abf5-bca1cbe533d3",
   "metadata": {},
   "source": [
    "Применим критерий Манна Уитни для определния есть ли статистическая разница между нашими распределениями"
   ]
  },
  {
   "cell_type": "code",
   "execution_count": 179,
   "id": "6dd1008c-0ec0-4256-aa83-74e6fa787922",
   "metadata": {},
   "outputs": [
    {
     "name": "stdout",
     "output_type": "stream",
     "text": [
      "MannwhitneyuResult(statistic=1831186.0, pvalue=0.7083277937581569)\n"
     ]
    }
   ],
   "source": [
    "res = mannwhitneyu(mean.query('group == 1').product_id,mean.query('group == 0').product_id)\n",
    "print(res)"
   ]
  },
  {
   "cell_type": "markdown",
   "id": "99be0e1d-807a-4100-a16c-5b1827d759ff",
   "metadata": {},
   "source": [
    "П-вэлью больше уровня значимости,статистзначимых различий между распределениями количества покупок в заказе - нет"
   ]
  },
  {
   "cell_type": "code",
   "execution_count": 180,
   "id": "2ff4d6b8-b98d-4408-98c0-dffe5c90dbb0",
   "metadata": {},
   "outputs": [
    {
     "name": "stdout",
     "output_type": "stream",
     "text": [
      "MannwhitneyuResult(statistic=1757443.0, pvalue=0.07538521320232093)\n"
     ]
    }
   ],
   "source": [
    "res = mannwhitneyu(mean.query('group == 1').price,mean.query('group == 0').price)\n",
    "print(res)"
   ]
  },
  {
   "cell_type": "markdown",
   "id": "1674e83f-d2b9-41eb-b671-175ccc54aba0",
   "metadata": {},
   "source": [
    "Так же нет статзначимых различий между распределениями суммы закзазов"
   ]
  },
  {
   "cell_type": "markdown",
   "id": "189ac7f7-3db1-4ffb-8597-de490bb363fc",
   "metadata": {},
   "source": [
    "То есть можно сказать что внедрение рекомендационной системы не\n",
    "повлияло(статистически значимо) на средний чек и среднее количество заказов\n",
    "\n",
    "НО можно попробовать посмотреть на сумму всех заказов и на их количество совершенное конкретным клиентом"
   ]
  },
  {
   "cell_type": "code",
   "execution_count": 44,
   "id": "affccaa3-ced3-403a-8f21-332375bc3d16",
   "metadata": {},
   "outputs": [
    {
     "data": {
      "text/html": [
       "<div>\n",
       "<style scoped>\n",
       "    .dataframe tbody tr th:only-of-type {\n",
       "        vertical-align: middle;\n",
       "    }\n",
       "\n",
       "    .dataframe tbody tr th {\n",
       "        vertical-align: top;\n",
       "    }\n",
       "\n",
       "    .dataframe thead th {\n",
       "        text-align: right;\n",
       "    }\n",
       "</style>\n",
       "<table border=\"1\" class=\"dataframe\">\n",
       "  <thead>\n",
       "    <tr style=\"text-align: right;\">\n",
       "      <th></th>\n",
       "      <th>order_id</th>\n",
       "      <th>price</th>\n",
       "    </tr>\n",
       "    <tr>\n",
       "      <th>group</th>\n",
       "      <th></th>\n",
       "      <th></th>\n",
       "    </tr>\n",
       "  </thead>\n",
       "  <tbody>\n",
       "    <tr>\n",
       "      <th>0</th>\n",
       "      <td>9.966797</td>\n",
       "      <td>1139.562305</td>\n",
       "    </tr>\n",
       "    <tr>\n",
       "      <th>1</th>\n",
       "      <td>15.928144</td>\n",
       "      <td>1753.749301</td>\n",
       "    </tr>\n",
       "  </tbody>\n",
       "</table>\n",
       "</div>"
      ],
      "text/plain": [
       "        order_id        price\n",
       "group                        \n",
       "0       9.966797  1139.562305\n",
       "1      15.928144  1753.749301"
      ]
     },
     "execution_count": 44,
     "metadata": {},
     "output_type": "execute_result"
    }
   ],
   "source": [
    "users_mean = users_orders_products.groupby(['group','user_id'],as_index = False).agg({'order_id':'count','price':'sum'})\n",
    "\n",
    "users_mean.groupby('group').agg({'order_id':'mean','price':'mean'})"
   ]
  },
  {
   "cell_type": "markdown",
   "id": "649aa5cc-91f7-4630-a52b-099206420187",
   "metadata": {},
   "source": [
    "Кажется что количество заказов на клиента и прибыть по заказам значительно выросла\n",
    "\n",
    "Посмотрим на распределения прибыли и количества заказов"
   ]
  },
  {
   "cell_type": "code",
   "execution_count": 45,
   "id": "6ae45e4e-fcc1-4989-bef1-b7d026364070",
   "metadata": {},
   "outputs": [
    {
     "data": {
      "text/plain": [
       "<Axes: xlabel='order_id', ylabel='Count'>"
      ]
     },
     "execution_count": 45,
     "metadata": {},
     "output_type": "execute_result"
    },
    {
     "data": {
      "image/png": "[encoded data removed]",
      "text/plain": [
       "<Figure size 640x480 with 1 Axes>"
      ]
     },
     "metadata": {},
     "output_type": "display_data"
    }
   ],
   "source": [
    "sns.histplot(x = 'order_id',data = users_mean, hue = 'group')"
   ]
  },
  {
   "cell_type": "code",
   "execution_count": 46,
   "id": "bc6cffd0-0d15-4906-8c08-859826a2e015",
   "metadata": {},
   "outputs": [
    {
     "data": {
      "text/plain": [
       "<Axes: xlabel='group', ylabel='order_id'>"
      ]
     },
     "execution_count": 46,
     "metadata": {},
     "output_type": "execute_result"
    },
    {
     "data": {
      "image/png": "[encoded data removed]",
      "text/plain": [
       "<Figure size 640x480 with 1 Axes>"
      ]
     },
     "metadata": {},
     "output_type": "display_data"
    }
   ],
   "source": [
    "sns.boxplot(x = 'group',data = users_mean, y = 'order_id')"
   ]
  },
  {
   "cell_type": "code",
   "execution_count": 47,
   "id": "fe7f8773-8abc-4c56-a84e-5eac19619a8d",
   "metadata": {},
   "outputs": [
    {
     "data": {
      "text/plain": [
       "<Axes: xlabel='price', ylabel='Count'>"
      ]
     },
     "execution_count": 47,
     "metadata": {},
     "output_type": "execute_result"
    },
    {
     "data": {
      "image/png": "[encoded data removed]",
      "text/plain": [
       "<Figure size 640x480 with 1 Axes>"
      ]
     },
     "metadata": {},
     "output_type": "display_data"
    }
   ],
   "source": [
    "sns.histplot(x = 'price',data = users_mean, hue = 'group')"
   ]
  },
  {
   "cell_type": "code",
   "execution_count": 48,
   "id": "fef6c2ce-931d-4a07-bb9c-939f638431c9",
   "metadata": {},
   "outputs": [
    {
     "data": {
      "text/plain": [
       "<Axes: xlabel='group', ylabel='price'>"
      ]
     },
     "execution_count": 48,
     "metadata": {},
     "output_type": "execute_result"
    },
    {
     "data": {
      "image/png": "[encoded data removed]",
      "text/plain": [
       "<Figure size 640x480 with 1 Axes>"
      ]
     },
     "metadata": {},
     "output_type": "display_data"
    }
   ],
   "source": [
    "sns.boxplot(x = 'group',data = users_mean, y = 'price')"
   ]
  },
  {
   "cell_type": "code",
   "execution_count": null,
   "id": "ec506782-7132-41cf-91d5-20bb0437c1d7",
   "metadata": {},
   "outputs": [
    {
     "data": {
      "text/plain": [
       "ShapiroResult(statistic=0.9799675941467285, pvalue=2.2059532511775615e-06)"
      ]
     },
     "execution_count": 194,
     "metadata": {},
     "output_type": "execute_result"
    }
   ],
   "source": [
    "shapiro(users_mean.query('group == 1').order_id)"
   ]
  },
  {
   "cell_type": "markdown",
   "id": "bb054938-7b9c-4016-855c-80b7a9d5ad5b",
   "metadata": {},
   "source": [
    "Самое напоминающее нормальное распределение на гистогрмамме не является нормальным,\n",
    "поэтому для сравнения распределений буду испольтзовать непараметрический критерий Манна Уитни"
   ]
  },
  {
   "cell_type": "code",
   "execution_count": 197,
   "id": "ecc6953d-c8cc-4fc4-8af2-b5ec7cbd736e",
   "metadata": {},
   "outputs": [
    {
     "name": "stdout",
     "output_type": "stream",
     "text": [
      "MannwhitneyuResult(statistic=189697.5, pvalue=7.718513188000197e-40)\n"
     ]
    }
   ],
   "source": [
    "res = mannwhitneyu(users_mean.query('group == 1').order_id,users_mean.query('group == 0').order_id)\n",
    "print(res)"
   ]
  },
  {
   "cell_type": "code",
   "execution_count": null,
   "id": "f1fec7b5-dad0-48a7-936f-7dad38e887b5",
   "metadata": {},
   "outputs": [
    {
     "name": "stdout",
     "output_type": "stream",
     "text": [
      "MannwhitneyuResult(statistic=181381.5, pvalue=3.69242098281985e-30)\n"
     ]
    }
   ],
   "source": [
    "res = mannwhitneyu(users_mean.query('group == 1').price,users_mean.query('group == 0').price)\n",
    "print(res)"
   ]
  },
  {
   "cell_type": "markdown",
   "id": "355fc0e4-8cc3-492c-b4c5-990b8255338c",
   "metadata": {},
   "source": [
    "П вэлью в данном случае оказался сильно меньше уровня значимости, поэтому можем отклонить гипотезу о том что распределения \n",
    "не имеют статистических различий. "
   ]
  },
  {
   "cell_type": "markdown",
   "id": "3f2ba1ba-a3ce-43eb-934e-0945a5b8d05b",
   "metadata": {},
   "source": [
    "## Выводы по тестированию системы рекомендаций\n",
    "\n",
    "### Методология\n",
    "\n",
    "Для оценки эффективности внедренной системы рекомендаций был проведен АБ-тест. Пользователи были разделены на две группы:\n",
    "- Контрольная группа: Пользовались сервисом без системы рекомендаций.\n",
    "- Экспериментальная группа: Использовали сервис с системой рекомендаций.\n",
    "\n",
    "Тестирование проводилось в течение 12 дней, и каждая из групп включала в себя по 500 человек.\n",
    "\n",
    "### Основные показатели для сравнения\n",
    "\n",
    "- Средний чек заказа.\n",
    "- Среднее количество товаров в заказе.\n",
    "- Общая сумма заказов каждого пользователя за период.\n",
    "- Среднее количество заказов на пользователя.\n",
    "\n",
    "### Результаты\n",
    "\n",
    "- Средний чек и среднее количество товаров в заказе не показали статистически значимых различий между группами.\n",
    "- Пользователи экспериментальной группы совершили в среднем на 1.5 раза больше заказов по сравнению с контрольной группой (среднее количество заказов увеличилось с 10 до 16).\n",
    "- Сумма заказов в экспериментальной группе также оказалась в 1.5 раза больше: средняя сумма увеличилась с 1150 до 1750 рублей.\n",
    "\n",
    "### Итог\n",
    "\n",
    "Различия в количестве заказов и сумме покупок являются статистически значимыми. Новая система рекомендаций показала свою эффективность, что делает ее подходящей для внедрения на постоянной основе.\n"
   ]
  },
  {
   "cell_type": "code",
   "execution_count": null,
   "id": "be9b7183-f1e6-4873-a3c7-70f55826ed30",
   "metadata": {},
   "outputs": [],
   "source": []
  }
 ],
 "metadata": {
  "kernelspec": {
   "display_name": "Python 3 (ipykernel)",
   "language": "python",
   "name": "python3"
  },
  "language_info": {
   "codemirror_mode": {
    "name": "ipython",
    "version": 3
   },
   "file_extension": ".py",
   "mimetype": "text/x-python",
   "name": "python",
   "nbconvert_exporter": "python",
   "pygments_lexer": "ipython3",
   "version": "3.10.9"
  }
 },
 "nbformat": 4,
 "nbformat_minor": 5
}
