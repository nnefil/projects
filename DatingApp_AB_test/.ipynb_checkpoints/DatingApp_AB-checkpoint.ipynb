{
 "cells": [
  {
   "cell_type": "markdown",
   "id": "4be276ee-08f8-4d9d-a8bc-eff05dc4069d",
   "metadata": {},
   "source": [
    "# Оценка эффективности нового алгоритма поиска анкет\n",
    "\n",
    "## Цель\n",
    "\n",
    "Оценить эффективность нового алгоритма поиска анкет в приложении для онлайн-знакомств с помощью АБ-теста.\n",
    "\n",
    "## Объект исследования\n",
    "\n",
    "Результаты АБ-теста:\n",
    "- Группа 0: Старый алгоритм.\n",
    "- Группа 1: Новый алгоритм.\n",
    "\n",
    "## Задачи\n",
    "\n",
    "1. Проанализировать предоставленные данные: провести предварительный осмотр, обработать пропуски и дубликаты.\n",
    "2. Определить ключевые метрики для оценки качества алгоритма.\n",
    "3. Проанализировать распределение ключевых метрик в обеих группах.\n",
    "4. Провести статистический анализ данных: проверить гипотезы о различиях между группами по выбранным метрикам.\n",
    "5. Сделать выводы на основе полученных результатов и дать рекомендации.\n",
    "\n",
    "## Ключевые метрики\n",
    "\n",
    "- Процент мэтчей (совпадений) среди всех взаимодействий.\n",
    "- Среднее количество мэтчей на пользователя.\n",
    "\n",
    "## Исходные данные\n",
    "\n",
    "- Информация о группе пользователя (0 или 1).\n",
    "- Информация о наличии мэтча между парой пользователей.\n",
    "\n",
    "## Шаги анализа\n",
    "\n",
    "1. Загрузка и первичный анализ данных.\n",
    "2. Предобработка данных: удаление дубликатов, обработка пропусков.\n",
    "3. Вычисление ключевых метрик для каждой группы.\n",
    "4. Визуализация распределения метрик в обеих группах.\n",
    "5. Проведение статистических тестов для проверки гипотез о различии между группами.\n",
    "6. Формулировка выводов и рекомендаций на основе анализа.\n"
   ]
  },
  {
   "cell_type": "code",
   "execution_count": 1,
   "id": "686192c1-5518-4180-85fe-e2b8a6ef9422",
   "metadata": {},
   "outputs": [
    {
     "data": {
      "text/plain": [
       "<Figure size 1000x600 with 0 Axes>"
      ]
     },
     "execution_count": 1,
     "metadata": {},
     "output_type": "execute_result"
    },
    {
     "data": {
      "text/plain": [
       "<Figure size 1000x600 with 0 Axes>"
      ]
     },
     "metadata": {},
     "output_type": "display_data"
    }
   ],
   "source": [
    "import pandas as pd\n",
    "import matplotlib.pyplot as plt\n",
    "import seaborn as sns\n",
    "from scipy.stats import chi2_contingency\n",
    "from scipy.stats import shapiro\n",
    "from scipy.stats import mannwhitneyu\n",
    "\n",
    "plt.figure(figsize=(10, 6))"
   ]
  },
  {
   "cell_type": "code",
   "execution_count": 2,
   "id": "7995b8f8-a08e-4d4c-832c-32b7872f6e86",
   "metadata": {},
   "outputs": [],
   "source": [
    "df = pd.read_csv('dating_data.csv')"
   ]
  },
  {
   "cell_type": "code",
   "execution_count": 6,
   "id": "fb658d5b-2216-44d5-9376-b390b316b8e8",
   "metadata": {},
   "outputs": [
    {
     "name": "stdout",
     "output_type": "stream",
     "text": [
      "<class 'pandas.core.frame.DataFrame'>\n",
      "RangeIndex: 14514 entries, 0 to 14513\n",
      "Data columns (total 4 columns):\n",
      " #   Column     Non-Null Count  Dtype\n",
      "---  ------     --------------  -----\n",
      " 0   user_id_1  14514 non-null  int64\n",
      " 1   user_id_2  14514 non-null  int64\n",
      " 2   group      14514 non-null  int64\n",
      " 3   is_match   14514 non-null  int64\n",
      "dtypes: int64(4)\n",
      "memory usage: 453.7 KB\n"
     ]
    }
   ],
   "source": [
    "df.info()"
   ]
  },
  {
   "cell_type": "code",
   "execution_count": 7,
   "id": "35ad326b-a11a-4e75-a816-309d6fec13d6",
   "metadata": {},
   "outputs": [
    {
     "data": {
      "text/plain": [
       "user_id_1    0\n",
       "user_id_2    0\n",
       "group        0\n",
       "is_match     0\n",
       "dtype: int64"
      ]
     },
     "execution_count": 7,
     "metadata": {},
     "output_type": "execute_result"
    }
   ],
   "source": [
    "df.isna().sum()"
   ]
  },
  {
   "cell_type": "code",
   "execution_count": 8,
   "id": "62033327-5d50-4a1d-a618-33313ae864a5",
   "metadata": {},
   "outputs": [
    {
     "data": {
      "text/html": [
       "<div>\n",
       "<style scoped>\n",
       "    .dataframe tbody tr th:only-of-type {\n",
       "        vertical-align: middle;\n",
       "    }\n",
       "\n",
       "    .dataframe tbody tr th {\n",
       "        vertical-align: top;\n",
       "    }\n",
       "\n",
       "    .dataframe thead th {\n",
       "        text-align: right;\n",
       "    }\n",
       "</style>\n",
       "<table border=\"1\" class=\"dataframe\">\n",
       "  <thead>\n",
       "    <tr style=\"text-align: right;\">\n",
       "      <th></th>\n",
       "      <th>user_id_1</th>\n",
       "      <th>user_id_2</th>\n",
       "      <th>group</th>\n",
       "      <th>is_match</th>\n",
       "    </tr>\n",
       "  </thead>\n",
       "  <tbody>\n",
       "    <tr>\n",
       "      <th>0</th>\n",
       "      <td>79</td>\n",
       "      <td>91</td>\n",
       "      <td>1</td>\n",
       "      <td>1</td>\n",
       "    </tr>\n",
       "    <tr>\n",
       "      <th>1</th>\n",
       "      <td>716</td>\n",
       "      <td>353</td>\n",
       "      <td>1</td>\n",
       "      <td>1</td>\n",
       "    </tr>\n",
       "    <tr>\n",
       "      <th>2</th>\n",
       "      <td>423</td>\n",
       "      <td>677</td>\n",
       "      <td>0</td>\n",
       "      <td>0</td>\n",
       "    </tr>\n",
       "    <tr>\n",
       "      <th>3</th>\n",
       "      <td>658</td>\n",
       "      <td>165</td>\n",
       "      <td>1</td>\n",
       "      <td>1</td>\n",
       "    </tr>\n",
       "    <tr>\n",
       "      <th>4</th>\n",
       "      <td>969</td>\n",
       "      <td>155</td>\n",
       "      <td>0</td>\n",
       "      <td>1</td>\n",
       "    </tr>\n",
       "  </tbody>\n",
       "</table>\n",
       "</div>"
      ],
      "text/plain": [
       "   user_id_1  user_id_2  group  is_match\n",
       "0         79         91      1         1\n",
       "1        716        353      1         1\n",
       "2        423        677      0         0\n",
       "3        658        165      1         1\n",
       "4        969        155      0         1"
      ]
     },
     "execution_count": 8,
     "metadata": {},
     "output_type": "execute_result"
    }
   ],
   "source": [
    "df.head()"
   ]
  },
  {
   "cell_type": "markdown",
   "id": "750d4da9-6bd4-4f24-a563-5876fb4c0d51",
   "metadata": {},
   "source": [
    "Посмотрим на отношение мэтчей ко всем просмотрам в каждой группе"
   ]
  },
  {
   "cell_type": "code",
   "execution_count": 9,
   "id": "43ef02d4-9710-48f9-9e1b-192ba25f810e",
   "metadata": {},
   "outputs": [
    {
     "data": {
      "text/plain": [
       "group  is_match\n",
       "0      0           3858\n",
       "       1            934\n",
       "1      0           5813\n",
       "       1           3909\n",
       "Name: is_match, dtype: int64"
      ]
     },
     "execution_count": 9,
     "metadata": {},
     "output_type": "execute_result"
    }
   ],
   "source": [
    "df.groupby('group')['is_match'].value_counts()"
   ]
  },
  {
   "cell_type": "code",
   "execution_count": 10,
   "id": "2cb59404-cc2f-4340-9f86-12ccb3475d3c",
   "metadata": {},
   "outputs": [
    {
     "data": {
      "text/plain": [
       "group  is_match\n",
       "0      0           0.805092\n",
       "       1           0.194908\n",
       "1      0           0.597922\n",
       "       1           0.402078\n",
       "Name: is_match, dtype: float64"
      ]
     },
     "execution_count": 10,
     "metadata": {},
     "output_type": "execute_result"
    }
   ],
   "source": [
    "df.groupby('group')['is_match'].value_counts(normalize = True)"
   ]
  },
  {
   "cell_type": "markdown",
   "id": "785c8fa0-1fbc-4198-8268-c6a1a4a39e11",
   "metadata": {},
   "source": [
    "Разница в группах около 20 процентов, построим таблицу сопряженности и применим критерий чи-квадрат для того что бы определить\n",
    "действительно ли разница в количестве мэтчей завичит от группы"
   ]
  },
  {
   "cell_type": "code",
   "execution_count": 11,
   "id": "08032195-88d6-4e32-8c68-60421a2cab6e",
   "metadata": {},
   "outputs": [],
   "source": [
    "df_crosstab = pd.crosstab(df.is_match,df.group)"
   ]
  },
  {
   "cell_type": "code",
   "execution_count": 12,
   "id": "7bd0cdca-61e7-4685-bb39-d56678b20778",
   "metadata": {},
   "outputs": [
    {
     "data": {
      "text/html": [
       "<div>\n",
       "<style scoped>\n",
       "    .dataframe tbody tr th:only-of-type {\n",
       "        vertical-align: middle;\n",
       "    }\n",
       "\n",
       "    .dataframe tbody tr th {\n",
       "        vertical-align: top;\n",
       "    }\n",
       "\n",
       "    .dataframe thead th {\n",
       "        text-align: right;\n",
       "    }\n",
       "</style>\n",
       "<table border=\"1\" class=\"dataframe\">\n",
       "  <thead>\n",
       "    <tr style=\"text-align: right;\">\n",
       "      <th>group</th>\n",
       "      <th>0</th>\n",
       "      <th>1</th>\n",
       "    </tr>\n",
       "    <tr>\n",
       "      <th>is_match</th>\n",
       "      <th></th>\n",
       "      <th></th>\n",
       "    </tr>\n",
       "  </thead>\n",
       "  <tbody>\n",
       "    <tr>\n",
       "      <th>0</th>\n",
       "      <td>3858</td>\n",
       "      <td>5813</td>\n",
       "    </tr>\n",
       "    <tr>\n",
       "      <th>1</th>\n",
       "      <td>934</td>\n",
       "      <td>3909</td>\n",
       "    </tr>\n",
       "  </tbody>\n",
       "</table>\n",
       "</div>"
      ],
      "text/plain": [
       "group        0     1\n",
       "is_match            \n",
       "0         3858  5813\n",
       "1          934  3909"
      ]
     },
     "execution_count": 12,
     "metadata": {},
     "output_type": "execute_result"
    }
   ],
   "source": [
    "df_crosstab"
   ]
  },
  {
   "cell_type": "code",
   "execution_count": 13,
   "id": "3726cb90-64ee-4aa6-a1b6-bf3f75d483a6",
   "metadata": {},
   "outputs": [
    {
     "data": {
      "text/plain": [
       "<Axes: xlabel='group', ylabel='count'>"
      ]
     },
     "execution_count": 13,
     "metadata": {},
     "output_type": "execute_result"
    },
    {
     "data": {
      "image/png": "[encoded data removed]",
      "text/plain": [
       "<Figure size 640x480 with 1 Axes>"
      ]
     },
     "metadata": {},
     "output_type": "display_data"
    }
   ],
   "source": [
    "sns.countplot(x = 'group', data = df, hue = 'is_match')"
   ]
  },
  {
   "cell_type": "code",
   "execution_count": 17,
   "id": "93140e82-d1b9-47d8-994a-7e93ce66ff29",
   "metadata": {},
   "outputs": [
    {
     "data": {
      "text/plain": [
       "618.6889141576197"
      ]
     },
     "execution_count": 17,
     "metadata": {},
     "output_type": "execute_result"
    }
   ],
   "source": [
    "res = chi2_contingency(df_crosstab)\n",
    "res.statistic"
   ]
  },
  {
   "cell_type": "markdown",
   "id": "4e125873-68cc-4d95-af28-447ded3adc90",
   "metadata": {},
   "source": [
    "Нулевая гипотеза - количество мэтчей не завичит от группы, п-вэлью знчительно меньше уровня значимости, поэтому мы можем \n",
    "отклонить нулевую гипотезу"
   ]
  },
  {
   "cell_type": "code",
   "execution_count": 15,
   "id": "0df7acb7-1a5d-4af5-bfcf-199e86534728",
   "metadata": {},
   "outputs": [
    {
     "data": {
      "text/plain": [
       "1.441829916366341e-136"
      ]
     },
     "execution_count": 15,
     "metadata": {},
     "output_type": "execute_result"
    }
   ],
   "source": [
    "res.pvalue"
   ]
  },
  {
   "cell_type": "markdown",
   "id": "511394ce-634d-40b4-b3dd-f199fa8ba8ac",
   "metadata": {},
   "source": [
    "Теперь сравним количество мэтчей(стр по мэтчам) на каждого пользователя, для этого cделаю таблицу в которой будут\n",
    "отображены мэтчи пользователй из user_id_1 и user_id_2"
   ]
  },
  {
   "cell_type": "code",
   "execution_count": 19,
   "id": "d4ef4836-c095-4418-9001-f1649a4ebd4f",
   "metadata": {},
   "outputs": [],
   "source": [
    "df1 = df"
   ]
  },
  {
   "cell_type": "code",
   "execution_count": 23,
   "id": "8a53c2f5-55c9-45ef-ad7b-8f0659c96f21",
   "metadata": {},
   "outputs": [
    {
     "data": {
      "text/html": [
       "<div>\n",
       "<style scoped>\n",
       "    .dataframe tbody tr th:only-of-type {\n",
       "        vertical-align: middle;\n",
       "    }\n",
       "\n",
       "    .dataframe tbody tr th {\n",
       "        vertical-align: top;\n",
       "    }\n",
       "\n",
       "    .dataframe thead th {\n",
       "        text-align: right;\n",
       "    }\n",
       "</style>\n",
       "<table border=\"1\" class=\"dataframe\">\n",
       "  <thead>\n",
       "    <tr style=\"text-align: right;\">\n",
       "      <th></th>\n",
       "      <th>user_id_1</th>\n",
       "      <th>user_id_2</th>\n",
       "      <th>group</th>\n",
       "      <th>is_match</th>\n",
       "    </tr>\n",
       "  </thead>\n",
       "  <tbody>\n",
       "    <tr>\n",
       "      <th>0</th>\n",
       "      <td>79</td>\n",
       "      <td>91</td>\n",
       "      <td>1</td>\n",
       "      <td>1</td>\n",
       "    </tr>\n",
       "    <tr>\n",
       "      <th>1</th>\n",
       "      <td>716</td>\n",
       "      <td>353</td>\n",
       "      <td>1</td>\n",
       "      <td>1</td>\n",
       "    </tr>\n",
       "    <tr>\n",
       "      <th>2</th>\n",
       "      <td>423</td>\n",
       "      <td>677</td>\n",
       "      <td>0</td>\n",
       "      <td>0</td>\n",
       "    </tr>\n",
       "    <tr>\n",
       "      <th>3</th>\n",
       "      <td>658</td>\n",
       "      <td>165</td>\n",
       "      <td>1</td>\n",
       "      <td>1</td>\n",
       "    </tr>\n",
       "    <tr>\n",
       "      <th>4</th>\n",
       "      <td>969</td>\n",
       "      <td>155</td>\n",
       "      <td>0</td>\n",
       "      <td>1</td>\n",
       "    </tr>\n",
       "  </tbody>\n",
       "</table>\n",
       "</div>"
      ],
      "text/plain": [
       "   user_id_1  user_id_2  group  is_match\n",
       "0         79         91      1         1\n",
       "1        716        353      1         1\n",
       "2        423        677      0         0\n",
       "3        658        165      1         1\n",
       "4        969        155      0         1"
      ]
     },
     "execution_count": 23,
     "metadata": {},
     "output_type": "execute_result"
    }
   ],
   "source": [
    "df1.head()"
   ]
  },
  {
   "cell_type": "code",
   "execution_count": 24,
   "id": "9b360e36-21c4-4e92-b539-82ffd25f390d",
   "metadata": {},
   "outputs": [],
   "source": [
    "df2 = df.rename(columns = {'user_id_1':'user_id_2','user_id_2':'user_id_1'})"
   ]
  },
  {
   "cell_type": "code",
   "execution_count": 25,
   "id": "3d00c52b-2b16-4055-9ddb-7c8b87cd114c",
   "metadata": {},
   "outputs": [
    {
     "data": {
      "text/html": [
       "<div>\n",
       "<style scoped>\n",
       "    .dataframe tbody tr th:only-of-type {\n",
       "        vertical-align: middle;\n",
       "    }\n",
       "\n",
       "    .dataframe tbody tr th {\n",
       "        vertical-align: top;\n",
       "    }\n",
       "\n",
       "    .dataframe thead th {\n",
       "        text-align: right;\n",
       "    }\n",
       "</style>\n",
       "<table border=\"1\" class=\"dataframe\">\n",
       "  <thead>\n",
       "    <tr style=\"text-align: right;\">\n",
       "      <th></th>\n",
       "      <th>user_id_2</th>\n",
       "      <th>user_id_1</th>\n",
       "      <th>group</th>\n",
       "      <th>is_match</th>\n",
       "    </tr>\n",
       "  </thead>\n",
       "  <tbody>\n",
       "    <tr>\n",
       "      <th>0</th>\n",
       "      <td>79</td>\n",
       "      <td>91</td>\n",
       "      <td>1</td>\n",
       "      <td>1</td>\n",
       "    </tr>\n",
       "    <tr>\n",
       "      <th>1</th>\n",
       "      <td>716</td>\n",
       "      <td>353</td>\n",
       "      <td>1</td>\n",
       "      <td>1</td>\n",
       "    </tr>\n",
       "    <tr>\n",
       "      <th>2</th>\n",
       "      <td>423</td>\n",
       "      <td>677</td>\n",
       "      <td>0</td>\n",
       "      <td>0</td>\n",
       "    </tr>\n",
       "    <tr>\n",
       "      <th>3</th>\n",
       "      <td>658</td>\n",
       "      <td>165</td>\n",
       "      <td>1</td>\n",
       "      <td>1</td>\n",
       "    </tr>\n",
       "    <tr>\n",
       "      <th>4</th>\n",
       "      <td>969</td>\n",
       "      <td>155</td>\n",
       "      <td>0</td>\n",
       "      <td>1</td>\n",
       "    </tr>\n",
       "  </tbody>\n",
       "</table>\n",
       "</div>"
      ],
      "text/plain": [
       "   user_id_2  user_id_1  group  is_match\n",
       "0         79         91      1         1\n",
       "1        716        353      1         1\n",
       "2        423        677      0         0\n",
       "3        658        165      1         1\n",
       "4        969        155      0         1"
      ]
     },
     "execution_count": 25,
     "metadata": {},
     "output_type": "execute_result"
    }
   ],
   "source": [
    "df2.head()"
   ]
  },
  {
   "cell_type": "code",
   "execution_count": 26,
   "id": "9760ff89-f91d-4bb1-8c52-6dff894a7256",
   "metadata": {},
   "outputs": [],
   "source": [
    "df1_2 = pd.concat([df1, df2])"
   ]
  },
  {
   "cell_type": "code",
   "execution_count": 28,
   "id": "c79fe210-fd91-4539-acc4-798110c6eeec",
   "metadata": {},
   "outputs": [
    {
     "data": {
      "text/html": [
       "<div>\n",
       "<style scoped>\n",
       "    .dataframe tbody tr th:only-of-type {\n",
       "        vertical-align: middle;\n",
       "    }\n",
       "\n",
       "    .dataframe tbody tr th {\n",
       "        vertical-align: top;\n",
       "    }\n",
       "\n",
       "    .dataframe thead th {\n",
       "        text-align: right;\n",
       "    }\n",
       "</style>\n",
       "<table border=\"1\" class=\"dataframe\">\n",
       "  <thead>\n",
       "    <tr style=\"text-align: right;\">\n",
       "      <th></th>\n",
       "      <th>user_id_1</th>\n",
       "      <th>user_id_2</th>\n",
       "      <th>group</th>\n",
       "      <th>is_match</th>\n",
       "    </tr>\n",
       "  </thead>\n",
       "  <tbody>\n",
       "    <tr>\n",
       "      <th>0</th>\n",
       "      <td>79</td>\n",
       "      <td>91</td>\n",
       "      <td>1</td>\n",
       "      <td>1</td>\n",
       "    </tr>\n",
       "    <tr>\n",
       "      <th>1</th>\n",
       "      <td>716</td>\n",
       "      <td>353</td>\n",
       "      <td>1</td>\n",
       "      <td>1</td>\n",
       "    </tr>\n",
       "    <tr>\n",
       "      <th>2</th>\n",
       "      <td>423</td>\n",
       "      <td>677</td>\n",
       "      <td>0</td>\n",
       "      <td>0</td>\n",
       "    </tr>\n",
       "    <tr>\n",
       "      <th>3</th>\n",
       "      <td>658</td>\n",
       "      <td>165</td>\n",
       "      <td>1</td>\n",
       "      <td>1</td>\n",
       "    </tr>\n",
       "    <tr>\n",
       "      <th>4</th>\n",
       "      <td>969</td>\n",
       "      <td>155</td>\n",
       "      <td>0</td>\n",
       "      <td>1</td>\n",
       "    </tr>\n",
       "  </tbody>\n",
       "</table>\n",
       "</div>"
      ],
      "text/plain": [
       "   user_id_1  user_id_2  group  is_match\n",
       "0         79         91      1         1\n",
       "1        716        353      1         1\n",
       "2        423        677      0         0\n",
       "3        658        165      1         1\n",
       "4        969        155      0         1"
      ]
     },
     "execution_count": 28,
     "metadata": {},
     "output_type": "execute_result"
    }
   ],
   "source": [
    "df1_2.head()"
   ]
  },
  {
   "cell_type": "code",
   "execution_count": 30,
   "id": "f96d0780-6096-4510-97b3-2acb13454fbc",
   "metadata": {},
   "outputs": [
    {
     "data": {
      "text/html": [
       "<div>\n",
       "<style scoped>\n",
       "    .dataframe tbody tr th:only-of-type {\n",
       "        vertical-align: middle;\n",
       "    }\n",
       "\n",
       "    .dataframe tbody tr th {\n",
       "        vertical-align: top;\n",
       "    }\n",
       "\n",
       "    .dataframe thead th {\n",
       "        text-align: right;\n",
       "    }\n",
       "</style>\n",
       "<table border=\"1\" class=\"dataframe\">\n",
       "  <thead>\n",
       "    <tr style=\"text-align: right;\">\n",
       "      <th></th>\n",
       "      <th>user_id_1</th>\n",
       "      <th>user_id_2</th>\n",
       "      <th>group</th>\n",
       "      <th>is_match</th>\n",
       "    </tr>\n",
       "  </thead>\n",
       "  <tbody>\n",
       "    <tr>\n",
       "      <th>21</th>\n",
       "      <td>416</td>\n",
       "      <td>676</td>\n",
       "      <td>1</td>\n",
       "      <td>1</td>\n",
       "    </tr>\n",
       "    <tr>\n",
       "      <th>67</th>\n",
       "      <td>731</td>\n",
       "      <td>91</td>\n",
       "      <td>1</td>\n",
       "      <td>1</td>\n",
       "    </tr>\n",
       "    <tr>\n",
       "      <th>224</th>\n",
       "      <td>190</td>\n",
       "      <td>147</td>\n",
       "      <td>1</td>\n",
       "      <td>1</td>\n",
       "    </tr>\n",
       "    <tr>\n",
       "      <th>254</th>\n",
       "      <td>556</td>\n",
       "      <td>108</td>\n",
       "      <td>0</td>\n",
       "      <td>1</td>\n",
       "    </tr>\n",
       "    <tr>\n",
       "      <th>274</th>\n",
       "      <td>757</td>\n",
       "      <td>987</td>\n",
       "      <td>1</td>\n",
       "      <td>0</td>\n",
       "    </tr>\n",
       "  </tbody>\n",
       "</table>\n",
       "</div>"
      ],
      "text/plain": [
       "     user_id_1  user_id_2  group  is_match\n",
       "21         416        676      1         1\n",
       "67         731         91      1         1\n",
       "224        190        147      1         1\n",
       "254        556        108      0         1\n",
       "274        757        987      1         0"
      ]
     },
     "execution_count": 30,
     "metadata": {},
     "output_type": "execute_result"
    }
   ],
   "source": [
    "# посмотрим есть ли у нас дубликаты\n",
    "\n",
    "df1_2[df1_2.duplicated(subset=['user_id_1', 'user_id_2'], keep=False)].head()"
   ]
  },
  {
   "cell_type": "code",
   "execution_count": 31,
   "id": "8b415a83-811a-4dbc-b7f0-64aefd45ada4",
   "metadata": {},
   "outputs": [],
   "source": [
    "# удалим их\n",
    "\n",
    "df1_2 = df1_2.drop_duplicates(['user_id_1','user_id_2'])"
   ]
  },
  {
   "cell_type": "code",
   "execution_count": 27,
   "id": "df0f1bed-ebf0-4563-903f-9c16eb8488c4",
   "metadata": {},
   "outputs": [
    {
     "data": {
      "text/html": [
       "<div>\n",
       "<style scoped>\n",
       "    .dataframe tbody tr th:only-of-type {\n",
       "        vertical-align: middle;\n",
       "    }\n",
       "\n",
       "    .dataframe tbody tr th {\n",
       "        vertical-align: top;\n",
       "    }\n",
       "\n",
       "    .dataframe thead th {\n",
       "        text-align: right;\n",
       "    }\n",
       "</style>\n",
       "<table border=\"1\" class=\"dataframe\">\n",
       "  <thead>\n",
       "    <tr style=\"text-align: right;\">\n",
       "      <th></th>\n",
       "      <th>user_id_1</th>\n",
       "      <th>user_id_2</th>\n",
       "      <th>group</th>\n",
       "      <th>is_match</th>\n",
       "    </tr>\n",
       "  </thead>\n",
       "  <tbody>\n",
       "    <tr>\n",
       "      <th>0</th>\n",
       "      <td>79</td>\n",
       "      <td>91</td>\n",
       "      <td>1</td>\n",
       "      <td>1</td>\n",
       "    </tr>\n",
       "    <tr>\n",
       "      <th>1</th>\n",
       "      <td>716</td>\n",
       "      <td>353</td>\n",
       "      <td>1</td>\n",
       "      <td>1</td>\n",
       "    </tr>\n",
       "    <tr>\n",
       "      <th>2</th>\n",
       "      <td>423</td>\n",
       "      <td>677</td>\n",
       "      <td>0</td>\n",
       "      <td>0</td>\n",
       "    </tr>\n",
       "    <tr>\n",
       "      <th>3</th>\n",
       "      <td>658</td>\n",
       "      <td>165</td>\n",
       "      <td>1</td>\n",
       "      <td>1</td>\n",
       "    </tr>\n",
       "    <tr>\n",
       "      <th>4</th>\n",
       "      <td>969</td>\n",
       "      <td>155</td>\n",
       "      <td>0</td>\n",
       "      <td>1</td>\n",
       "    </tr>\n",
       "  </tbody>\n",
       "</table>\n",
       "</div>"
      ],
      "text/plain": [
       "   user_id_1  user_id_2  group  is_match\n",
       "0         79         91      1         1\n",
       "1        716        353      1         1\n",
       "2        423        677      0         0\n",
       "3        658        165      1         1\n",
       "4        969        155      0         1"
      ]
     },
     "execution_count": 27,
     "metadata": {},
     "output_type": "execute_result"
    }
   ],
   "source": [
    "df1_2.head()"
   ]
  },
  {
   "cell_type": "code",
   "execution_count": 32,
   "id": "fc4ad5fd-b691-47e7-acc6-747e0670d0f5",
   "metadata": {},
   "outputs": [],
   "source": [
    "# сагрегируем по пользовалтелю user_id_1 и посчитаем количество просмотров анкет и мэтчей,\n",
    "# информация о том с кем случился мэтч уже не важна, можно отбросить эти колонку\n",
    "\n",
    "df1_2 = df1_2.groupby(['group', 'user_id_1'], as_index=False).agg({\n",
    "    'is_match': ['sum', 'count']\n",
    "})"
   ]
  },
  {
   "cell_type": "code",
   "execution_count": 30,
   "id": "6d79fe72-f6f9-46d3-9593-4bf0a960bf5d",
   "metadata": {},
   "outputs": [
    {
     "data": {
      "text/html": [
       "<div>\n",
       "<style scoped>\n",
       "    .dataframe tbody tr th:only-of-type {\n",
       "        vertical-align: middle;\n",
       "    }\n",
       "\n",
       "    .dataframe tbody tr th {\n",
       "        vertical-align: top;\n",
       "    }\n",
       "\n",
       "    .dataframe thead tr th {\n",
       "        text-align: left;\n",
       "    }\n",
       "</style>\n",
       "<table border=\"1\" class=\"dataframe\">\n",
       "  <thead>\n",
       "    <tr>\n",
       "      <th></th>\n",
       "      <th>group</th>\n",
       "      <th>user_id_1</th>\n",
       "      <th colspan=\"2\" halign=\"left\">is_match</th>\n",
       "    </tr>\n",
       "    <tr>\n",
       "      <th></th>\n",
       "      <th></th>\n",
       "      <th></th>\n",
       "      <th>sum</th>\n",
       "      <th>count</th>\n",
       "    </tr>\n",
       "  </thead>\n",
       "  <tbody>\n",
       "    <tr>\n",
       "      <th>0</th>\n",
       "      <td>0</td>\n",
       "      <td>4</td>\n",
       "      <td>3</td>\n",
       "      <td>17</td>\n",
       "    </tr>\n",
       "    <tr>\n",
       "      <th>1</th>\n",
       "      <td>0</td>\n",
       "      <td>10</td>\n",
       "      <td>6</td>\n",
       "      <td>20</td>\n",
       "    </tr>\n",
       "    <tr>\n",
       "      <th>2</th>\n",
       "      <td>0</td>\n",
       "      <td>12</td>\n",
       "      <td>2</td>\n",
       "      <td>20</td>\n",
       "    </tr>\n",
       "    <tr>\n",
       "      <th>3</th>\n",
       "      <td>0</td>\n",
       "      <td>14</td>\n",
       "      <td>0</td>\n",
       "      <td>16</td>\n",
       "    </tr>\n",
       "    <tr>\n",
       "      <th>4</th>\n",
       "      <td>0</td>\n",
       "      <td>15</td>\n",
       "      <td>6</td>\n",
       "      <td>32</td>\n",
       "    </tr>\n",
       "  </tbody>\n",
       "</table>\n",
       "</div>"
      ],
      "text/plain": [
       "  group user_id_1 is_match      \n",
       "                       sum count\n",
       "0     0         4        3    17\n",
       "1     0        10        6    20\n",
       "2     0        12        2    20\n",
       "3     0        14        0    16\n",
       "4     0        15        6    32"
      ]
     },
     "execution_count": 30,
     "metadata": {},
     "output_type": "execute_result"
    }
   ],
   "source": [
    "df1_2.head()"
   ]
  },
  {
   "cell_type": "code",
   "execution_count": 33,
   "id": "692efbd7-99ca-4269-a1c9-8270c132e2d3",
   "metadata": {},
   "outputs": [
    {
     "data": {
      "text/html": [
       "<div>\n",
       "<style scoped>\n",
       "    .dataframe tbody tr th:only-of-type {\n",
       "        vertical-align: middle;\n",
       "    }\n",
       "\n",
       "    .dataframe tbody tr th {\n",
       "        vertical-align: top;\n",
       "    }\n",
       "\n",
       "    .dataframe thead th {\n",
       "        text-align: right;\n",
       "    }\n",
       "</style>\n",
       "<table border=\"1\" class=\"dataframe\">\n",
       "  <thead>\n",
       "    <tr style=\"text-align: right;\">\n",
       "      <th></th>\n",
       "      <th>group</th>\n",
       "      <th>user_id_1</th>\n",
       "      <th>matches</th>\n",
       "      <th>views</th>\n",
       "      <th>ctr</th>\n",
       "    </tr>\n",
       "  </thead>\n",
       "  <tbody>\n",
       "    <tr>\n",
       "      <th>0</th>\n",
       "      <td>0</td>\n",
       "      <td>4</td>\n",
       "      <td>3</td>\n",
       "      <td>17</td>\n",
       "      <td>0.176471</td>\n",
       "    </tr>\n",
       "    <tr>\n",
       "      <th>1</th>\n",
       "      <td>0</td>\n",
       "      <td>10</td>\n",
       "      <td>6</td>\n",
       "      <td>20</td>\n",
       "      <td>0.300000</td>\n",
       "    </tr>\n",
       "    <tr>\n",
       "      <th>2</th>\n",
       "      <td>0</td>\n",
       "      <td>12</td>\n",
       "      <td>2</td>\n",
       "      <td>20</td>\n",
       "      <td>0.100000</td>\n",
       "    </tr>\n",
       "    <tr>\n",
       "      <th>3</th>\n",
       "      <td>0</td>\n",
       "      <td>14</td>\n",
       "      <td>0</td>\n",
       "      <td>16</td>\n",
       "      <td>0.000000</td>\n",
       "    </tr>\n",
       "    <tr>\n",
       "      <th>4</th>\n",
       "      <td>0</td>\n",
       "      <td>15</td>\n",
       "      <td>6</td>\n",
       "      <td>32</td>\n",
       "      <td>0.187500</td>\n",
       "    </tr>\n",
       "  </tbody>\n",
       "</table>\n",
       "</div>"
      ],
      "text/plain": [
       "   group  user_id_1  matches  views       ctr\n",
       "0      0          4        3     17  0.176471\n",
       "1      0         10        6     20  0.300000\n",
       "2      0         12        2     20  0.100000\n",
       "3      0         14        0     16  0.000000\n",
       "4      0         15        6     32  0.187500"
      ]
     },
     "execution_count": 33,
     "metadata": {},
     "output_type": "execute_result"
    }
   ],
   "source": [
    "# переименуем колонки\n",
    "\n",
    "df1_2.columns = ['group', 'user_id_1', 'matches', 'views']\n",
    "\n",
    "#посчитаем ctr\n",
    "\n",
    "df1_2['ctr'] = df1_2['matches']/df1_2['views']\n",
    "\n",
    "df1_2.head()"
   ]
  },
  {
   "cell_type": "code",
   "execution_count": 34,
   "id": "35270797-dc44-4504-8934-efe368b3235c",
   "metadata": {},
   "outputs": [
    {
     "data": {
      "text/plain": [
       "<Axes: xlabel='ctr', ylabel='Count'>"
      ]
     },
     "execution_count": 34,
     "metadata": {},
     "output_type": "execute_result"
    },
    {
     "data": {
      "image/png": "[encoded data removed]",
      "text/plain": [
       "<Figure size 640x480 with 1 Axes>"
      ]
     },
     "metadata": {},
     "output_type": "display_data"
    }
   ],
   "source": [
    "# сравним распределение ctr в первой и второй группах с помощью гистограмм и боксплотов\n",
    "\n",
    "sns.histplot(data=df1_2, x='ctr', hue='group')"
   ]
  },
  {
   "cell_type": "code",
   "execution_count": 38,
   "id": "3cf86d9a-e4b6-473f-adf2-a5158866f34b",
   "metadata": {},
   "outputs": [
    {
     "data": {
      "text/plain": [
       "<Axes: xlabel='group', ylabel='ctr'>"
      ]
     },
     "execution_count": 38,
     "metadata": {},
     "output_type": "execute_result"
    },
    {
     "data": {
      "image/png": "[encoded data removed]",
      "text/plain": [
       "<Figure size 640x480 with 1 Axes>"
      ]
     },
     "metadata": {},
     "output_type": "display_data"
    }
   ],
   "source": [
    "sns.boxplot(data=df1_2, x='group', y='ctr')"
   ]
  },
  {
   "cell_type": "markdown",
   "id": "22731832-c193-4675-9492-ca193eabfbcc",
   "metadata": {},
   "source": [
    "Ящики боксплотов (25ый и 75ий процентиль) не перекрываются, в целом, можно заявить что разница статзначима"
   ]
  },
  {
   "cell_type": "markdown",
   "id": "ab4f34f2-fc63-4a5c-9f4d-6f9dd746e2a8",
   "metadata": {},
   "source": [
    "Проведем тест на нормальность и применим статистический критерий для подтверждениея высказывания"
   ]
  },
  {
   "cell_type": "code",
   "execution_count": 42,
   "id": "0df25f35-4bda-4fc1-8de7-b061ad55c3e9",
   "metadata": {},
   "outputs": [
    {
     "data": {
      "text/plain": [
       "ShapiroResult(statistic=0.9932228326797485, pvalue=0.023545794188976288)"
      ]
     },
     "execution_count": 42,
     "metadata": {},
     "output_type": "execute_result"
    }
   ],
   "source": [
    "shapiro(df1_2.query('group == 0').ctr)"
   ]
  },
  {
   "cell_type": "markdown",
   "id": "1d2a05eb-372c-49e9-8955-eab9d94d453e",
   "metadata": {},
   "source": [
    "п-вэлью меньше 0.5, распределение в контрольной группе не является нормальным"
   ]
  },
  {
   "cell_type": "code",
   "execution_count": 43,
   "id": "740dd421-fa7f-447b-b5d8-858bef712953",
   "metadata": {},
   "outputs": [
    {
     "data": {
      "text/plain": [
       "ShapiroResult(statistic=0.9971137642860413, pvalue=0.5300042629241943)"
      ]
     },
     "execution_count": 43,
     "metadata": {},
     "output_type": "execute_result"
    }
   ],
   "source": [
    "shapiro(df1_2.query('group == 1').ctr)"
   ]
  },
  {
   "cell_type": "markdown",
   "id": "837abcf4-4fe3-4f84-9cdc-3da01e61de80",
   "metadata": {},
   "source": [
    "п-вэлью больше 0.5, распределение в эксперементальной группе является нормальным."
   ]
  },
  {
   "cell_type": "markdown",
   "id": "02d77948-8fa5-4b9b-a21f-f7548ac7e8d7",
   "metadata": {},
   "source": [
    "Так как одно из распределений не является нормальным применю кретерий Манна Уитни "
   ]
  },
  {
   "cell_type": "code",
   "execution_count": 45,
   "id": "5d74fc52-8894-492e-8778-8ff299873c85",
   "metadata": {},
   "outputs": [
    {
     "name": "stdout",
     "output_type": "stream",
     "text": [
      "MannwhitneyuResult(statistic=11197.0, pvalue=4.2740789064509994e-137)\n"
     ]
    }
   ],
   "source": [
    "res = mannwhitneyu(df1_2.query('group == 0').ctr, df1_2.query('group == 1').ctr)\n",
    "print(res)"
   ]
  },
  {
   "cell_type": "code",
   "execution_count": 46,
   "id": "9a223f0c-3847-4d60-b33b-d327b6790515",
   "metadata": {},
   "outputs": [
    {
     "data": {
      "text/plain": [
       "0.19047619047619047"
      ]
     },
     "execution_count": 46,
     "metadata": {},
     "output_type": "execute_result"
    }
   ],
   "source": [
    "df1_2.query('group == 0').ctr.median()"
   ]
  },
  {
   "cell_type": "code",
   "execution_count": 47,
   "id": "de4f07d4-a7eb-48f9-8f09-a7018a13b2f3",
   "metadata": {},
   "outputs": [
    {
     "data": {
      "text/plain": [
       "0.4"
      ]
     },
     "execution_count": 47,
     "metadata": {},
     "output_type": "execute_result"
    }
   ],
   "source": [
    "df1_2.query('group == 1').ctr.median()"
   ]
  },
  {
   "cell_type": "markdown",
   "id": "eaa761b2-0231-47e6-a3f1-a1d806d52acc",
   "metadata": {},
   "source": [
    "п-вэлью при применении критерий Манна Уитни значительно ниже 0.5 что говорит о том \n",
    "что разница в распределениях является статистически значимой\n",
    "\n"
   ]
  },
  {
   "cell_type": "markdown",
   "id": "33537e0e-9711-40e7-b1b0-263ace5e44de",
   "metadata": {},
   "source": [
    "## Заключение:\n",
    "\n",
    "### Проект: \n",
    "Оценка эффективности нового алгоритма подбора анкет в приложении знакомств.\n",
    "\n",
    "### Методология:\n",
    "Был проведен АБ-тест, в котором пользователи были разделены на две группы:\n",
    "\n",
    "**Контрольная группа (0):** Использовалась старая версия алгоритма.\n",
    "\n",
    "**Экспериментальная группа (1):** Пользователи тестировали новый алгоритм.\n",
    "\n",
    "### Первичные результаты:\n",
    "По предварительным данным, экспериментальная группа показала рост мэтчей с 19% до 40% от общего количества просмотренных анкет.\n",
    "\n",
    "### Статистическая проверка:\n",
    "\n",
    "Критерий чи-квадрат был применен для проверки гипотезы о зависимости разницы в количестве мэтчей от группы. Результаты подтвердили, что разница не случайна и имеет статистическую зависимость от группы.\n",
    "Для дополнительной проверки была рассчитана метрика CTR (количество мэтчей у каждого пользователя). Применяя критерий Манна-Уитни, было установлено, что p-value составляет 4.27e-137, что позволяет отвергнуть нулевую гипотезу о том, что разница между распределениями случайна.\n",
    "### Вывод:\n",
    "На основе проведенных статистических тестов можно утверждать, что новый алгоритм подбора анкет демонстрирует статистически значимое улучшение показателей мэтчей по сравнению со старым. Рекомендуется выпуск новой версии алгоритма для широкого использования в продакшне."
   ]
  },
  {
   "cell_type": "code",
   "execution_count": null,
   "id": "83c5c67a-e34d-48a2-a982-2670777eef45",
   "metadata": {},
   "outputs": [],
   "source": []
  }
 ],
 "metadata": {
  "kernelspec": {
   "display_name": "Python 3 (ipykernel)",
   "language": "python",
   "name": "python3"
  },
  "language_info": {
   "codemirror_mode": {
    "name": "ipython",
    "version": 3
   },
   "file_extension": ".py",
   "mimetype": "text/x-python",
   "name": "python",
   "nbconvert_exporter": "python",
   "pygments_lexer": "ipython3",
   "version": "3.10.9"
  }
 },
 "nbformat": 4,
 "nbformat_minor": 5
}
